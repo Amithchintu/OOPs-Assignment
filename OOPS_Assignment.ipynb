{
  "nbformat": 4,
  "nbformat_minor": 0,
  "metadata": {
    "colab": {
      "provenance": [],
      "toc_visible": true,
      "authorship_tag": "ABX9TyNJgxtVz/9irSAE1PqZ3jZe",
      "include_colab_link": true
    },
    "kernelspec": {
      "name": "python3",
      "display_name": "Python 3"
    },
    "language_info": {
      "name": "python"
    }
  },
  "cells": [
    {
      "cell_type": "markdown",
      "metadata": {
        "id": "view-in-github",
        "colab_type": "text"
      },
      "source": [
        "<a href=\"https://colab.research.google.com/github/Amithchintu/OOPs-Assignment/blob/main/OOPS_Assignment.ipynb\" target=\"_parent\"><img src=\"https://colab.research.google.com/assets/colab-badge.svg\" alt=\"Open In Colab\"/></a>"
      ]
    },
    {
      "cell_type": "markdown",
      "source": [
        "#1. What are the five key concepts of Object-Oriented Programming (OOP)?\n",
        "\n",
        "#Object-Oriented Programming (OOP) is a programming paradigm that uses objects and classes to structure software. Here are the five key concepts of OOP:\n",
        "\n",
        "#1. **Classes and Objects**:\n",
        "#- **Class**: A blueprint for creating objects. It defines a datatype by bundling data and methods that work on the data into one single unit.\n",
        "#- **Object**: An instance of a class. It is created from a class and can have unique values for its properties.\n",
        "\n",
        "#2. **Encapsulation**:\n",
        "#- This concept involves bundling the data (variables) and the methods (functions) that operate on the data into a single unit, or class. It also restricts direct access to some of an object's components, which is a means of preventing accidental interference and misuse of the data.\n",
        "\n",
        "#3. **Inheritance**:\n",
        "#- This allows a new class to inherit the properties and methods of an existing class. It promotes code reusability and establishes a natural hierarchy between classes.\n",
        "\n",
        "#4. **Polymorphism**:\n",
        "#- This allows objects to be treated as instances of their parent class rather than their actual class. The most common use of polymorphism is when a parent class reference is used to refer to a child class object. It allows one interface to be used for a general class of actions.\n",
        "\n",
        "#5. **Abstraction**:\n",
        "#- This concept involves hiding the complex implementation details and showing only the essential features of the object. It helps in reducing programming complexity and effort.\n",
        "\n",
        "#These concepts help in creating modular, maintainable, and scalable software systems."
      ],
      "metadata": {
        "id": "aAPfT2fO7Ral"
      }
    },
    {
      "cell_type": "markdown",
      "source": [
        "# 2. Write a Python class for a `Car` with attributes for `make`, `model`, and `year`. Include a method to display the car's information."
      ],
      "metadata": {
        "id": "VGEPVmKH8XAS"
      }
    },
    {
      "cell_type": "code",
      "execution_count": 1,
      "metadata": {
        "colab": {
          "base_uri": "https://localhost:8080/"
        },
        "id": "biKU4TAG54LI",
        "outputId": "2f64d3ce-afc0-4d04-eba2-66f7709e471e"
      },
      "outputs": [
        {
          "output_type": "stream",
          "name": "stdout",
          "text": [
            "Car Information: 2020 Toyota Corolla\n"
          ]
        }
      ],
      "source": [
        "class Car:\n",
        "    def __init__(self, make, model, year):\n",
        "        self.make = make\n",
        "        self.model = model\n",
        "        self.year = year\n",
        "\n",
        "    def display_info(self):\n",
        "        print(f\"Car Information: {self.year} {self.make} {self.model}\")\n",
        "\n",
        "# Example usage:\n",
        "my_car = Car(\"Toyota\", \"Corolla\", 2020)\n",
        "my_car.display_info()"
      ]
    },
    {
      "cell_type": "markdown",
      "source": [
        "# This class includes an __init__ method to initialize the car’s attributes and a display_info method to print out the car’s information. You can create an instance of the Car class and call the display_info method to see the car’s details."
      ],
      "metadata": {
        "id": "RGVEhNSI7NYu"
      }
    },
    {
      "cell_type": "markdown",
      "source": [
        "# 3. Explain the difference between instance methods and class methods. Provide an example of each.\n",
        "# 1.Instance methods are the most common type of methods in Python classes. They operate on an instance of the class and can access and modify the instance’s attributes. These methods take self as their first parameter, which refers to the instance calling the method."
      ],
      "metadata": {
        "id": "8yynYI6h9Aar"
      }
    },
    {
      "cell_type": "code",
      "source": [
        "class Car:\n",
        "    def __init__(self, make, model, year):\n",
        "        self.make = make\n",
        "        self.model = model\n",
        "        self.year = year\n",
        "\n",
        "    def display_info(self):\n",
        "        print(f\"Car Information: {self.year} {self.make} {self.model}\")\n",
        "\n",
        "# Creating an instance of Car\n",
        "my_car = Car(\"Toyota\", \"Corolla\", 2020)\n",
        "my_car.display_info()"
      ],
      "metadata": {
        "colab": {
          "base_uri": "https://localhost:8080/"
        },
        "id": "Y6JPmCXN9t6M",
        "outputId": "463dc1ff-35a7-4de7-900b-a353daf975f1"
      },
      "execution_count": 3,
      "outputs": [
        {
          "output_type": "stream",
          "name": "stdout",
          "text": [
            "Car Information: 2020 Toyota Corolla\n"
          ]
        }
      ]
    },
    {
      "cell_type": "markdown",
      "source": [
        "# 2.Class Methods\n",
        "# Class methods are methods that operate on the class itself rather than on instances of the class. They take cls as their first parameter, which refers to the class. Class methods are defined using the @classmethod decorator. They can access and modify class-level attributes but not instance-level attributes."
      ],
      "metadata": {
        "id": "0J8eof3q99NU"
      }
    },
    {
      "cell_type": "code",
      "source": [
        "class Car:\n",
        "    num_wheels = 4  # Class attribute\n",
        "\n",
        "    def __init__(self, make, model, year):\n",
        "        self.make = make\n",
        "        self.model = model\n",
        "        self.year = year\n",
        "\n",
        "    @classmethod\n",
        "    def display_num_wheels(cls):\n",
        "        print(f\"All cars have {cls.num_wheels} wheels.\")\n",
        "\n",
        "# Calling the class method\n",
        "Car.display_num_wheels()"
      ],
      "metadata": {
        "colab": {
          "base_uri": "https://localhost:8080/"
        },
        "id": "hruo_p_z9x3D",
        "outputId": "e13d2aab-a357-44a5-aa65-1cb9d9bdad3b"
      },
      "execution_count": 5,
      "outputs": [
        {
          "output_type": "stream",
          "name": "stdout",
          "text": [
            "All cars have 4 wheels.\n"
          ]
        }
      ]
    },
    {
      "cell_type": "markdown",
      "source": [
        "# Key Differences\n",
        "# Access:\n",
        "Instance methods can access and modify instance attributes.\n",
        "Class methods can access and modify class attributes.\n",
        "# Invocation:\n",
        "Instance methods are called on an instance of the class.\n",
        "Class methods are called on the class itself.\n",
        "# Parameters:\n",
        "Instance methods take self as the first parameter.\n",
        "Class methods take cls as the first parameter."
      ],
      "metadata": {
        "id": "5VVR9svW-UQo"
      }
    },
    {
      "cell_type": "markdown",
      "source": [
        "# 4. How does Python implement method overloading? Give an example.\n",
        "# Python doesn’t support method overloading in the traditional sense like some other languages (e.g., Java or C++). However, you can achieve similar functionality using default arguments or by using a third-party library like multipledispatch.\n",
        "\n",
        "# Using Default Arguments\n",
        "# You can define a method with default arguments to simulate overloading. Here’s an example:"
      ],
      "metadata": {
        "id": "TO-MYj84--Az"
      }
    },
    {
      "cell_type": "code",
      "source": [
        "class Human:\n",
        "    def say_hello(self, name=None):\n",
        "        if name is not None:\n",
        "            print(f\"Hello, {name}!\")\n",
        "        else:\n",
        "            print(\"Hello!\")\n",
        "\n",
        "# Create an instance\n",
        "person = Human()\n",
        "\n",
        "# Call the method with and without an argument\n",
        "person.say_hello()\n",
        "person.say_hello(\"Alice\")\n"
      ],
      "metadata": {
        "colab": {
          "base_uri": "https://localhost:8080/"
        },
        "id": "tZengOSC-Gbg",
        "outputId": "8a29effa-ae1a-4744-d3e0-059c19fa5cf8"
      },
      "execution_count": 6,
      "outputs": [
        {
          "output_type": "stream",
          "name": "stdout",
          "text": [
            "Hello!\n",
            "Hello, Alice!\n"
          ]
        }
      ]
    },
    {
      "cell_type": "markdown",
      "source": [
        "# Using multipledispatch\n",
        "# The multipledispatch library allows you to define multiple versions of a method with different signatures. First, you need to install the library:\n"
      ],
      "metadata": {
        "id": "Xk6FpJ_b-9BD"
      }
    },
    {
      "cell_type": "code",
      "source": [
        "from multipledispatch import dispatch\n",
        "\n",
        "class Calculator:\n",
        "    @dispatch(int, int)\n",
        "    def add(self, a, b):\n",
        "        return a + b\n",
        "\n",
        "    @dispatch(int, int, int)\n",
        "    def add(self, a, b, c):\n",
        "        return a + b + c\n",
        "\n",
        "# Create an instance\n",
        "calc = Calculator()\n",
        "\n",
        "# Call the overloaded methods\n",
        "print(calc.add(1, 2))\n",
        "print(calc.add(1, 2, 3))"
      ],
      "metadata": {
        "colab": {
          "base_uri": "https://localhost:8080/"
        },
        "id": "d-0ir-w4_rxr",
        "outputId": "de410842-c893-4c2b-df5d-1f29a7c00a89"
      },
      "execution_count": 7,
      "outputs": [
        {
          "output_type": "stream",
          "name": "stdout",
          "text": [
            "3\n",
            "6\n"
          ]
        }
      ]
    },
    {
      "cell_type": "markdown",
      "source": [
        "# In this example, the add method is overloaded to handle both two and three integer arguments"
      ],
      "metadata": {
        "id": "Nht6thBh_4DM"
      }
    },
    {
      "cell_type": "markdown",
      "source": [
        "# 5. What are the three types of access modifiers in Python? How are they denoted?\n",
        "#n Python, there are three types of access modifiers: public, protected, and private. These modifiers control the accessibility of class members (variables and methods).\n",
        "\n",
        "# 1. Public\n",
        "# Denoted by: No leading underscore.\n",
        "# Accessibility: Public members are accessible from anywhere, both inside and outside the class.\n"
      ],
      "metadata": {
        "id": "-BOpXQ3d_6eD"
      }
    },
    {
      "cell_type": "code",
      "source": [
        "#Example:\n",
        "class Example:\n",
        "    def __init__(self):\n",
        "        self.public_var = \"I am public\"\n",
        "\n",
        "obj = Example()\n",
        "print(obj.public_var)"
      ],
      "metadata": {
        "colab": {
          "base_uri": "https://localhost:8080/"
        },
        "id": "6U-mTeKOAOUE",
        "outputId": "c4849dbd-a780-400f-eb21-1b01d050967c"
      },
      "execution_count": 8,
      "outputs": [
        {
          "output_type": "stream",
          "name": "stdout",
          "text": [
            "I am public\n"
          ]
        }
      ]
    },
    {
      "cell_type": "markdown",
      "source": [
        "# 2. Protected\n",
        "# Denoted by: A single leading underscore (_).\n",
        "# Accessibility: Protected members are accessible within the class and its subclasses. They are not intended to be accessed directly from outside the class."
      ],
      "metadata": {
        "id": "7JVL2rP1AmxC"
      }
    },
    {
      "cell_type": "code",
      "source": [
        "#Example:\n",
        "class Example:\n",
        "    def __init__(self):\n",
        "        self._protected_var = \"I am protected\"\n",
        "\n",
        "class SubExample(Example):\n",
        "    def show_protected(self):\n",
        "        print(self._protected_var)\n",
        "\n",
        "obj = SubExample()\n",
        "obj.show_protected()"
      ],
      "metadata": {
        "colab": {
          "base_uri": "https://localhost:8080/"
        },
        "id": "px1XgQ7YAPYD",
        "outputId": "49adef12-1b82-49ab-8914-f0cd6b832005"
      },
      "execution_count": 10,
      "outputs": [
        {
          "output_type": "stream",
          "name": "stdout",
          "text": [
            "I am protected\n"
          ]
        }
      ]
    },
    {
      "cell_type": "markdown",
      "source": [
        "# 3. Private\n",
        "# Denoted by: A double leading underscore (__).\n",
        "# Accessibility: Private members are accessible only within the class where they are defined. They are not accessible from outside the class or by subclasses."
      ],
      "metadata": {
        "id": "jERYFK9NAj3c"
      }
    },
    {
      "cell_type": "code",
      "source": [
        "#Example:\n",
        "class Example:\n",
        "    def __init__(self):\n",
        "        self.__private_var = \"I am private\"\n",
        "\n",
        "    def show_private(self):\n",
        "        print(self.__private_var)\n",
        "\n",
        "obj = Example()\n",
        "obj.show_private()\n"
      ],
      "metadata": {
        "colab": {
          "base_uri": "https://localhost:8080/"
        },
        "id": "VJvTdg_pBRop",
        "outputId": "3a1833b4-8189-4783-ee33-6910703434ab"
      },
      "execution_count": 11,
      "outputs": [
        {
          "output_type": "stream",
          "name": "stdout",
          "text": [
            "I am private\n"
          ]
        }
      ]
    },
    {
      "cell_type": "markdown",
      "source": [
        "# These access modifiers help in encapsulating the data and protecting it from unauthorized access"
      ],
      "metadata": {
        "id": "cl50XlCBBPpP"
      }
    },
    {
      "cell_type": "markdown",
      "source": [
        "# 6. Describe the five types of inheritance in Python. Provide a simple example of multiple inheritance.\n",
        "# Python supports five types of inheritance, each allowing different ways for classes to inherit properties and methods from other classes.\n",
        "\n",
        "# Types of Inheritance\n",
        "# Single Inheritance\n",
        "# A child class inherits from a single parent class."
      ],
      "metadata": {
        "id": "T0c-hAUkBo5p"
      }
    },
    {
      "cell_type": "code",
      "source": [
        "#Example:\n",
        "class Parent:\n",
        "    def parent_method(self):\n",
        "        print(\"This is the parent method.\")\n",
        "\n",
        "class Child(Parent):\n",
        "    def child_method(self):\n",
        "        print(\"This is the child method.\")\n",
        "\n",
        "obj = Child()\n",
        "obj.parent_method()\n",
        "obj.child_method()"
      ],
      "metadata": {
        "colab": {
          "base_uri": "https://localhost:8080/"
        },
        "id": "74Lf_vXZCUu5",
        "outputId": "82682a44-a55f-4935-c726-223bd515384c"
      },
      "execution_count": 12,
      "outputs": [
        {
          "output_type": "stream",
          "name": "stdout",
          "text": [
            "This is the parent method.\n",
            "This is the child method.\n"
          ]
        }
      ]
    },
    {
      "cell_type": "markdown",
      "source": [
        "# Multiple Inheritance\n",
        "# A child class inherits from multiple parent classes."
      ],
      "metadata": {
        "id": "7urmGJofCtlm"
      }
    },
    {
      "cell_type": "code",
      "source": [
        "#Example:\n",
        "class Parent1:\n",
        "    def method1(self):\n",
        "        print(\"This is method1 from Parent1.\")\n",
        "\n",
        "class Parent2:\n",
        "    def method2(self):\n",
        "        print(\"This is method2 from Parent2.\")\n",
        "\n",
        "class Child(Parent1, Parent2):\n",
        "    pass\n",
        "\n",
        "obj = Child()\n",
        "obj.method1()\n",
        "obj.method2()"
      ],
      "metadata": {
        "colab": {
          "base_uri": "https://localhost:8080/"
        },
        "id": "fvO-TLYLCjUI",
        "outputId": "563aca20-fa81-4f48-b3fb-ba6c78c14b0a"
      },
      "execution_count": 13,
      "outputs": [
        {
          "output_type": "stream",
          "name": "stdout",
          "text": [
            "This is method1 from Parent1.\n",
            "This is method2 from Parent2.\n"
          ]
        }
      ]
    },
    {
      "cell_type": "markdown",
      "source": [
        "# Multilevel Inheritance\n",
        "# A child class inherits from a parent class, which in turn inherits from another parent class."
      ],
      "metadata": {
        "id": "SmRYRatZDQI2"
      }
    },
    {
      "cell_type": "code",
      "source": [
        "#Example:\n",
        "class Grandparent:\n",
        "    def grandparent_method(self):\n",
        "        print(\"This is the grandparent method.\")\n",
        "\n",
        "class Parent(Grandparent):\n",
        "    def parent_method(self):\n",
        "        print(\"This is the parent method.\")\n",
        "\n",
        "class Child(Parent):\n",
        "    def child_method(self):\n",
        "        print(\"This is the child method.\")\n",
        "\n",
        "obj = Child()\n",
        "obj.grandparent_method()\n",
        "obj.parent_method()\n",
        "obj.child_method()"
      ],
      "metadata": {
        "colab": {
          "base_uri": "https://localhost:8080/"
        },
        "id": "dudCVA3jDHVN",
        "outputId": "9679c408-8439-4461-d932-7af577bf045e"
      },
      "execution_count": 14,
      "outputs": [
        {
          "output_type": "stream",
          "name": "stdout",
          "text": [
            "This is the grandparent method.\n",
            "This is the parent method.\n",
            "This is the child method.\n"
          ]
        }
      ]
    },
    {
      "cell_type": "markdown",
      "source": [
        "# Hierarchical Inheritance\n",
        "# Multiple child classes inherit from a single parent class."
      ],
      "metadata": {
        "id": "bu4pRpKUDu-w"
      }
    },
    {
      "cell_type": "code",
      "source": [
        "#Example:\n",
        "class Parent:\n",
        "    def parent_method(self):\n",
        "        print(\"This is the parent method.\")\n",
        "\n",
        "class Child1(Parent):\n",
        "    def child1_method(self):\n",
        "        print(\"This is the child1 method.\")\n",
        "\n",
        "class Child2(Parent):\n",
        "    def child2_method(self):\n",
        "        print(\"This is the child2 method.\")\n",
        "\n",
        "obj1 = Child1()\n",
        "obj2 = Child2()\n",
        "obj1.parent_method()\n",
        "obj2.parent_method()"
      ],
      "metadata": {
        "colab": {
          "base_uri": "https://localhost:8080/"
        },
        "id": "uobAcBr6Dm0T",
        "outputId": "ccae780c-9d80-4229-fff0-d29f232c2391"
      },
      "execution_count": 15,
      "outputs": [
        {
          "output_type": "stream",
          "name": "stdout",
          "text": [
            "This is the parent method.\n",
            "This is the parent method.\n"
          ]
        }
      ]
    },
    {
      "cell_type": "markdown",
      "source": [
        "# Hybrid Inheritance\n",
        "# A combination of two or more types of inheritance."
      ],
      "metadata": {
        "id": "NaKZyqpQENlQ"
      }
    },
    {
      "cell_type": "code",
      "source": [
        "#Example:\n",
        "class Parent:\n",
        "    def parent_method(self):\n",
        "        print(\"This is the parent method.\")\n",
        "\n",
        "class Child1(Parent):\n",
        "    def child1_method(self):\n",
        "        print(\"This is the child1 method.\")\n",
        "\n",
        "class Child2(Parent):\n",
        "    def child2_method(self):\n",
        "        print(\"This is the child2 method.\")\n",
        "\n",
        "class GrandChild(Child1, Child2):\n",
        "    def grandchild_method(self):\n",
        "        print(\"This is the grandchild method.\")\n",
        "\n",
        "obj = GrandChild()\n",
        "obj.parent_method()\n",
        "obj.child1_method()\n",
        "obj.child2_method()\n",
        "obj.grandchild_method()"
      ],
      "metadata": {
        "colab": {
          "base_uri": "https://localhost:8080/"
        },
        "id": "M2Zj9J2QEE40",
        "outputId": "25b942f0-1f99-45de-8ae3-9ace48b9eaf2"
      },
      "execution_count": 16,
      "outputs": [
        {
          "output_type": "stream",
          "name": "stdout",
          "text": [
            "This is the parent method.\n",
            "This is the child1 method.\n",
            "This is the child2 method.\n",
            "This is the grandchild method.\n"
          ]
        }
      ]
    },
    {
      "cell_type": "markdown",
      "source": [
        "# Example of Multiple Inheritance\n",
        "# Here’s a simple example demonstrating multiple inheritance:"
      ],
      "metadata": {
        "id": "xribg0zUEwL9"
      }
    },
    {
      "cell_type": "code",
      "source": [
        "class Mammal:\n",
        "    def mammal_info(self):\n",
        "        print(\"Mammals can give direct birth.\")\n",
        "\n",
        "class WingedAnimal:\n",
        "    def winged_animal_info(self):\n",
        "        print(\"Winged animals can flap.\")\n",
        "\n",
        "class Bat(Mammal, WingedAnimal):\n",
        "    pass\n",
        "\n",
        "# Create an instance of Bat\n",
        "bat = Bat()\n",
        "bat.mammal_info()\n",
        "bat.winged_animal_info()"
      ],
      "metadata": {
        "colab": {
          "base_uri": "https://localhost:8080/"
        },
        "id": "6cjtLjAUEel7",
        "outputId": "0271d7a8-3d0f-43c0-e774-07b67948f076"
      },
      "execution_count": 17,
      "outputs": [
        {
          "output_type": "stream",
          "name": "stdout",
          "text": [
            "Mammals can give direct birth.\n",
            "Winged animals can flap.\n"
          ]
        }
      ]
    },
    {
      "cell_type": "markdown",
      "source": [
        "# In this example, the Bat class inherits from both Mammal and WingedAnimal, allowing it to access methods from both parent classes"
      ],
      "metadata": {
        "id": "Cy34cU8AFDI6"
      }
    },
    {
      "cell_type": "markdown",
      "source": [
        "# 7. What is the Method Resolution Order (MRO) in Python? How can you retrieve it programmatically?\n",
        "# The Method Resolution Order (MRO) in Python is the order in which Python looks for a method in a hierarchy of classes. This is particularly important in the context of multiple inheritance, where a method might be found in more than one superclass. The MRO ensures that the method is called from the correct class, following a specific order.\n",
        "\n",
        "# How MRO Works\n",
        "# Python uses the C3 linearization algorithm (also known as C3 superclass linearization) to determine the MRO. The MRO is from bottom to top and left to right. This means that Python first looks for the method in the class of the object, then in the immediate superclass, and so on, following the order in which the superclasses are declared.\n",
        "\n",
        "# Retrieving MRO Programmatically\n",
        "# You can retrieve the MRO of a class using the __mro__ attribute or the mro() method.\n",
        "\n",
        "# Using __mro__ Attribute\n",
        "# The __mro__ attribute returns a tuple of classes in the order they are searched for methods."
      ],
      "metadata": {
        "id": "-XAJG4g8FPBN"
      }
    },
    {
      "cell_type": "code",
      "source": [
        "class A:\n",
        "    def method(self):\n",
        "        print(\"Method in A\")\n",
        "\n",
        "class B(A):\n",
        "    pass\n",
        "\n",
        "class C(B):\n",
        "    pass\n",
        "\n",
        "print(C.__mro__)"
      ],
      "metadata": {
        "colab": {
          "base_uri": "https://localhost:8080/"
        },
        "id": "U36rNZlxFzjn",
        "outputId": "e6696d1a-1132-482f-b674-e2259101cb61"
      },
      "execution_count": 18,
      "outputs": [
        {
          "output_type": "stream",
          "name": "stdout",
          "text": [
            "(<class '__main__.C'>, <class '__main__.B'>, <class '__main__.A'>, <class 'object'>)\n"
          ]
        }
      ]
    },
    {
      "cell_type": "markdown",
      "source": [
        "# Using mro() Method\n",
        "# The mro() method returns a list of classes in the MRO."
      ],
      "metadata": {
        "id": "9DRRT9NYGCsO"
      }
    },
    {
      "cell_type": "code",
      "source": [
        "class A:\n",
        "    def method(self):\n",
        "        print(\"Method in A\")\n",
        "\n",
        "class B(A):\n",
        "    pass\n",
        "\n",
        "class C(B):\n",
        "    pass\n",
        "\n",
        "print(C.mro())"
      ],
      "metadata": {
        "colab": {
          "base_uri": "https://localhost:8080/"
        },
        "id": "rlTPuz5iE5xK",
        "outputId": "a6d86767-c649-4987-999c-a34a35661b14"
      },
      "execution_count": 19,
      "outputs": [
        {
          "output_type": "stream",
          "name": "stdout",
          "text": [
            "[<class '__main__.C'>, <class '__main__.B'>, <class '__main__.A'>, <class 'object'>]\n"
          ]
        }
      ]
    },
    {
      "cell_type": "markdown",
      "source": [
        "# Example with Multiple Inheritance\n",
        "# Here’s an example demonstrating MRO in a multiple inheritance scenario:"
      ],
      "metadata": {
        "id": "jmuaXYzXGZG-"
      }
    },
    {
      "cell_type": "code",
      "source": [
        "class X:\n",
        "    def method(self):\n",
        "        print(\"Method in X\")\n",
        "\n",
        "class Y(X):\n",
        "    def method(self):\n",
        "        print(\"Method in Y\")\n",
        "\n",
        "class Z(X):\n",
        "    def method(self):\n",
        "        print(\"Method in Z\")\n",
        "\n",
        "class A(Y, Z):\n",
        "    pass\n",
        "\n",
        "a = A()\n",
        "a.method()\n",
        "print(A.__mro__)"
      ],
      "metadata": {
        "colab": {
          "base_uri": "https://localhost:8080/"
        },
        "id": "Z_oJvr04GLHZ",
        "outputId": "2c7f4be1-5686-44c2-8d0c-2ee4455bc195"
      },
      "execution_count": 20,
      "outputs": [
        {
          "output_type": "stream",
          "name": "stdout",
          "text": [
            "Method in Y\n",
            "(<class '__main__.A'>, <class '__main__.Y'>, <class '__main__.Z'>, <class '__main__.X'>, <class 'object'>)\n"
          ]
        }
      ]
    },
    {
      "cell_type": "markdown",
      "source": [
        "# In this example, the method in class Y is called because Y appears before Z in the MRO of class A"
      ],
      "metadata": {
        "id": "ZueifDaEGw6H"
      }
    },
    {
      "cell_type": "markdown",
      "source": [
        "# 8. Create an abstract base class `Shape` with an abstract method `area()`. Then create two subclasses `Circle` and `Rectangle` that implement the `area()` method.\n",
        "# To create an abstract base class in Python, you can use the abc module, which provides the infrastructure for defining abstract base classes. Here’s how you can create an abstract base class Shape with an abstract method area(), and then implement two subclasses Circle and Rectangle that provide their own implementations of the area() method.\n",
        "\n",
        "# Abstract Base Class Shape"
      ],
      "metadata": {
        "id": "OrgYPqrEG4fO"
      }
    },
    {
      "cell_type": "code",
      "source": [
        "from abc import ABC, abstractmethod\n",
        "\n",
        "class Shape(ABC):\n",
        "    @abstractmethod\n",
        "    def area(self):\n",
        "        pass\n",
        "\n",
        ""
      ],
      "metadata": {
        "id": "YeRmibzbHeNW"
      },
      "execution_count": null,
      "outputs": []
    },
    {
      "cell_type": "markdown",
      "source": [
        "# Subclass Circle"
      ],
      "metadata": {
        "id": "plAv6yFkHnLs"
      }
    },
    {
      "cell_type": "code",
      "source": [
        "import math\n",
        "\n",
        "class Circle(Shape):\n",
        "    def __init__(self, radius):\n",
        "        self.radius = radius\n",
        "\n",
        "    def area(self):\n",
        "        return math.pi * self.radius ** 2\n"
      ],
      "metadata": {
        "id": "BFrdXlQtG3qC"
      },
      "execution_count": null,
      "outputs": []
    },
    {
      "cell_type": "markdown",
      "source": [
        "# Subclass Rectangle"
      ],
      "metadata": {
        "id": "o9C2CC4mHy2q"
      }
    },
    {
      "cell_type": "code",
      "source": [
        "class Rectangle(Shape):\n",
        "    def __init__(self, width, height):\n",
        "        self.width = width\n",
        "        self.height = height\n",
        "\n",
        "    def area(self):\n",
        "        return self.width * self.height\n"
      ],
      "metadata": {
        "id": "eQiJwfcoJed7"
      },
      "execution_count": null,
      "outputs": []
    },
    {
      "cell_type": "code",
      "source": [
        "#Example Usage\n",
        "# Create instances of Circle and Rectangle\n",
        "circle = Circle(5)\n",
        "rectangle = Rectangle(4, 6)\n",
        "\n",
        "# Calculate and print the area of the shapes\n",
        "print(f\"Area of the circle: {circle.area()}\")\n",
        "print(f\"Area of the rectangle: {rectangle.area()}\")"
      ],
      "metadata": {
        "id": "ICB2MDqmJhkx"
      },
      "execution_count": null,
      "outputs": []
    },
    {
      "cell_type": "markdown",
      "source": [
        "# In this example:\n",
        "\n",
        "# The Shape class is an abstract base class with an abstract method area().\n",
        "# The Circle class implements the area() method to calculate the area of a circle using the formula πr2.\n",
        "# The Rectangle class implements the area() method to calculate the area of a rectangle using the formula width×height"
      ],
      "metadata": {
        "id": "1GryC_XdH4Yo"
      }
    },
    {
      "cell_type": "markdown",
      "source": [
        "# 9. Demonstrate polymorphism by creating a function that can work with different shape objects to calculate and print their areas\n",
        "# Polymorphism allows us to define methods in a way that they can be used interchangeably with different objects. Here’s how you can demonstrate polymorphism by creating a function that works with different shape objects to calculate and print their areas.\n",
        "# Define the Abstract Base Class and Subclasses\n",
        "# First, let’s define the abstract base class Shape and its subclasses Circle and Rectangle:"
      ],
      "metadata": {
        "id": "HUyHA7fUJ-kt"
      }
    },
    {
      "cell_type": "code",
      "source": [
        "from abc import ABC, abstractmethod\n",
        "import math\n",
        "\n",
        "class Shape(ABC):\n",
        "    @abstractmethod\n",
        "    def area(self):\n",
        "        pass\n",
        "\n",
        "class Circle(Shape):\n",
        "    def __init__(self, radius):\n",
        "        self.radius = radius\n",
        "\n",
        "    def area(self):\n",
        "        return math.pi * self.radius ** 2\n",
        "\n",
        "class Rectangle(Shape):\n",
        "    def __init__(self, width, height):\n",
        "        self.width = width\n",
        "        self.height = height\n",
        "\n",
        "    def area(self):\n",
        "        return self.width * self.height\n"
      ],
      "metadata": {
        "id": "VfKR26d6Khw0"
      },
      "execution_count": 23,
      "outputs": []
    },
    {
      "cell_type": "markdown",
      "source": [
        "# Create the Polymorphic Function\n",
        "# Now, let’s create a function that takes a list of shape objects and prints their areas:"
      ],
      "metadata": {
        "id": "DPs-f-0KKqKN"
      }
    },
    {
      "cell_type": "code",
      "source": [
        "def print_areas(shapes):\n",
        "    for shape in shapes:\n",
        "        print(f\"The area is: {shape.area()}\")\n",
        "\n",
        "# Example usage\n",
        "circle = Circle(5)\n",
        "rectangle = Rectangle(4, 6)\n",
        "\n",
        "shapes = [circle, rectangle]\n",
        "print_areas(shapes)\n"
      ],
      "metadata": {
        "colab": {
          "base_uri": "https://localhost:8080/"
        },
        "id": "QYg91imsKkS6",
        "outputId": "c52b0696-c1b9-4fb7-90b0-e780a1ca279e"
      },
      "execution_count": 24,
      "outputs": [
        {
          "output_type": "stream",
          "name": "stdout",
          "text": [
            "The area is: 78.53981633974483\n",
            "The area is: 24\n"
          ]
        }
      ]
    },
    {
      "cell_type": "markdown",
      "source": [
        "# This demonstrates polymorphism, as the print_areas function can work with any object that implements the area() method, regardless of the specific type of shape."
      ],
      "metadata": {
        "id": "pJdZAmjzLJnV"
      }
    },
    {
      "cell_type": "markdown",
      "source": [
        "# Explanation\n",
        "# Abstract Base Class Shape: Defines an abstract method area() that must be implemented by any subclass.\n",
        "# Subclass Circle: Implements the area() method to calculate the area of a circle.\n",
        "# Subclass Rectangle: Implements the area() method to calculate the area of a rectangle.\n",
        "# Function print_areas: Takes a list of shape objects and prints the area of each shape by calling their respective area() methods."
      ],
      "metadata": {
        "id": "XsBXMEcqK15w"
      }
    },
    {
      "cell_type": "markdown",
      "source": [
        "# 10. Implement encapsulation in a `BankAccount` class with private attributes for `balance` and `account_number`. Include methods for deposit, withdrawal, and balance inquiry\n",
        "# Implement encapsulation in a BankAccount class with private attributes for balance and account_number. The class will include methods for deposit, withdrawal, and balance inquiry.\n",
        "# BankAccount Class"
      ],
      "metadata": {
        "id": "1ezW-32rLqE8"
      }
    },
    {
      "cell_type": "code",
      "source": [
        "class BankAccount:\n",
        "    def __init__(self, account_number, initial_balance=0):\n",
        "        self.__account_number = account_number  # Private attribute\n",
        "        self.__balance = initial_balance        # Private attribute\n",
        "\n",
        "    def deposit(self, amount):\n",
        "        if amount > 0:\n",
        "            self.__balance += amount\n",
        "            print(f\"Deposited {amount}. New balance is {self.__balance}.\")\n",
        "        else:\n",
        "            print(\"Deposit amount must be positive.\")\n",
        "\n",
        "    def withdraw(self, amount):\n",
        "        if 0 < amount <= self.__balance:\n",
        "            self.__balance -= amount\n",
        "            print(f\"Withdrew {amount}. New balance is {self.__balance}.\")\n",
        "        else:\n",
        "            print(\"Insufficient balance or invalid amount.\")\n",
        "\n",
        "    def get_balance(self):\n",
        "        return self.__balance\n",
        "\n",
        "    def get_account_number(self):\n",
        "        return self.__account_number\n",
        "\n",
        "# Example usage\n",
        "account = BankAccount(\"123456789\", 1000)\n",
        "account.deposit(500)\n",
        "account.withdraw(200)\n",
        "print(account.get_balance())\n",
        "print(account.get_account_number())"
      ],
      "metadata": {
        "colab": {
          "base_uri": "https://localhost:8080/"
        },
        "id": "nDAGepiAKuVT",
        "outputId": "32194e99-ee28-4643-f4b1-95eaff1527dd"
      },
      "execution_count": 25,
      "outputs": [
        {
          "output_type": "stream",
          "name": "stdout",
          "text": [
            "Deposited 500. New balance is 1500.\n",
            "Withdrew 200. New balance is 1300.\n",
            "1300\n",
            "123456789\n"
          ]
        }
      ]
    },
    {
      "cell_type": "markdown",
      "source": [
        "# Explanation\n",
        "# Private Attributes: The __account_number and __balance attributes are private, meaning they cannot be accessed directly from outside the class.\n",
        "# Methods:\n",
        "# deposit(amount): Adds the specified amount to the balance if the amount is positive.\n",
        "# withdraw(amount): Deducts the specified amount from the balance if the amount is positive and does not exceed the current balance.\n",
        "# get_balance(): Returns the current balance.\n",
        "# get_account_number(): Returns the account number.\n",
        "# This encapsulation ensures that the balance and account_number attributes are protected from unauthorized access and modification, providing a controlled interface for interacting with the bank account."
      ],
      "metadata": {
        "id": "Li2zr-AmMqu0"
      }
    },
    {
      "cell_type": "markdown",
      "source": [
        "# 11. Write a class that overrides the `__str__` and `__add__` magic methods. What will these methods allow you to do?\n",
        "# Overriding the __str__ and __add__ magic methods in a class allows you to customize the string representation of objects and define custom behavior for the addition operation, respectively.\n",
        "# Example Class with __str__ and __add__ Methods\n",
        "# Here’s an example of a class that overrides both the __str__ and __add__ magic methods:"
      ],
      "metadata": {
        "id": "Jno5dPeBM-Wb"
      }
    },
    {
      "cell_type": "code",
      "source": [
        "class ComplexNumber:\n",
        "    def __init__(self, real, imag):\n",
        "        self.real = real\n",
        "        self.imag = imag\n",
        "\n",
        "    def __str__(self):\n",
        "        return f\"{self.real} + {self.imag}i\"\n",
        "\n",
        "    def __add__(self, other):\n",
        "        return ComplexNumber(self.real + other.real, self.imag + other.imag)\n",
        "\n",
        "# Example usage\n",
        "num1 = ComplexNumber(2, 3)\n",
        "num2 = ComplexNumber(4, 5)\n",
        "\n",
        "# Using the __str__ method\n",
        "print(num1)\n",
        "\n",
        "# Using the __add__ method\n",
        "result = num1 + num2\n",
        "print(result)\n"
      ],
      "metadata": {
        "colab": {
          "base_uri": "https://localhost:8080/"
        },
        "id": "OvRnXbXGMp4J",
        "outputId": "63776b6e-a689-4bea-f7a4-ff3eba471384"
      },
      "execution_count": 26,
      "outputs": [
        {
          "output_type": "stream",
          "name": "stdout",
          "text": [
            "2 + 3i\n",
            "6 + 8i\n"
          ]
        }
      ]
    },
    {
      "cell_type": "markdown",
      "source": [
        "# Explanation\n",
        "# __str__ Method: This method is called when you use the print() function or str() function on an object. It returns a string representation of the object. In this example, it formats the complex number as a string in the form “real + imagi”.\n",
        "# __add__ Method: This method is called when you use the + operator between two objects of the class. It defines how two objects should be added together. In this example, it adds the real and imaginary parts of two complex numbers and returns a new ComplexNumber object.\n",
        "# Benefits\n",
        "# Custom String Representation: By overriding the __str__ method, you can provide a meaningful string representation of your objects, which is useful for debugging and logging.\n",
        "# Custom Addition Behavior: By overriding the __add__ method, you can define how objects of your class should be added together, enabling intuitive arithmetic operations on custom objects."
      ],
      "metadata": {
        "id": "w5XWQr2wOLn2"
      }
    },
    {
      "cell_type": "markdown",
      "source": [
        "# 12. Create a decorator that measures and prints the execution time of a function\n",
        "# create a decorator in Python that measures and prints the execution time of a function:\n",
        "\n",
        "# Decorator Definition"
      ],
      "metadata": {
        "id": "fb6ZzAOPOVPC"
      }
    },
    {
      "cell_type": "code",
      "source": [
        "import time\n",
        "\n",
        "def measure_execution_time(func):\n",
        "    def wrapper(*args, **kwargs):\n",
        "        start_time = time.perf_counter()\n",
        "        result = func(*args, **kwargs)\n",
        "        end_time = time.perf_counter()\n",
        "        execution_time = end_time - start_time\n",
        "        print(f\"Function {func.__name__} took {execution_time:.4f} seconds to execute\")\n",
        "        return result\n",
        "    return wrapper"
      ],
      "metadata": {
        "id": "lLcy_Aj4MYlN"
      },
      "execution_count": 27,
      "outputs": []
    },
    {
      "cell_type": "code",
      "source": [
        "#Example Usage\n",
        "@measure_execution_time\n",
        "def calculate_sum(n):\n",
        "    return sum(range(n))\n",
        "\n",
        "@measure_execution_time\n",
        "def calculate_product(n):\n",
        "    product = 1\n",
        "    for i in range(1, n + 1):\n",
        "        product *= i\n",
        "    return product\n",
        "\n",
        "# Call the decorated functions\n",
        "print(calculate_sum(1000000))\n",
        "print(calculate_product(1000))"
      ],
      "metadata": {
        "colab": {
          "base_uri": "https://localhost:8080/"
        },
        "id": "UPPOXkocOuzM",
        "outputId": "7fabcbd7-dc3c-40a4-813d-4342a1b7f7b9"
      },
      "execution_count": 28,
      "outputs": [
        {
          "output_type": "stream",
          "name": "stdout",
          "text": [
            "Function calculate_sum took 0.1025 seconds to execute\n",
            "499999500000\n",
            "Function calculate_product took 0.0020 seconds to execute\n",
            "402387260077093773543702433923003985719374864210714632543799910429938512398629020592044208486969404800479988610197196058631666872994808558901323829669944590997424504087073759918823627727188732519779505950995276120874975462497043601418278094646496291056393887437886487337119181045825783647849977012476632889835955735432513185323958463075557409114262417474349347553428646576611667797396668820291207379143853719588249808126867838374559731746136085379534524221586593201928090878297308431392844403281231558611036976801357304216168747609675871348312025478589320767169132448426236131412508780208000261683151027341827977704784635868170164365024153691398281264810213092761244896359928705114964975419909342221566832572080821333186116811553615836546984046708975602900950537616475847728421889679646244945160765353408198901385442487984959953319101723355556602139450399736280750137837615307127761926849034352625200015888535147331611702103968175921510907788019393178114194545257223865541461062892187960223838971476088506276862967146674697562911234082439208160153780889893964518263243671616762179168909779911903754031274622289988005195444414282012187361745992642956581746628302955570299024324153181617210465832036786906117260158783520751516284225540265170483304226143974286933061690897968482590125458327168226458066526769958652682272807075781391858178889652208164348344825993266043367660176999612831860788386150279465955131156552036093988180612138558600301435694527224206344631797460594682573103790084024432438465657245014402821885252470935190620929023136493273497565513958720559654228749774011413346962715422845862377387538230483865688976461927383814900140767310446640259899490222221765904339901886018566526485061799702356193897017860040811889729918311021171229845901641921068884387121855646124960798722908519296819372388642614839657382291123125024186649353143970137428531926649875337218940694281434118520158014123344828015051399694290153483077644569099073152433278288269864602789864321139083506217095002597389863554277196742822248757586765752344220207573630569498825087968928162753848863396909959826280956121450994871701244516461260379029309120889086942028510640182154399457156805941872748998094254742173582401063677404595741785160829230135358081840096996372524230560855903700624271243416909004153690105933983835777939410970027753472000000000000000000000000000000000000000000000000000000000000000000000000000000000000000000000000000000000000000000000000000000000000000000000000000000000000000000000000000000000000000000000000000000000000000000000000000000000000000000000000000000000\n"
          ]
        }
      ]
    },
    {
      "cell_type": "markdown",
      "source": [
        "# Explanation\n",
        "# Decorator Function measure_execution_time: This function takes another function func as an argument and returns a new function wrapper.\n",
        "# Wrapper Function: The wrapper function measures the time before and after calling func, calculates the execution time, and prints it.\n",
        "# @measure_execution_time: This syntax applies the decorator to the calculate_sum and calculate_product functions, so their execution times are measured and printed whenever they are called.\n",
        "# This decorator can be applied to any function to measure and print its execution time, making it a useful tool for performance monitoring and optimization."
      ],
      "metadata": {
        "id": "7mmQQMxjPAin"
      }
    },
    {
      "cell_type": "markdown",
      "source": [
        "# 13. Explain the concept of the Diamond Problem in multiple inheritance. How does Python resolve it?\n"
      ],
      "metadata": {
        "id": "2MrhDDkFPMba"
      }
    },
    {
      "cell_type": "markdown",
      "source": [
        "# The Diamond Problem in multiple inheritance occurs when a class inherits from two classes that both inherit from a common base class. This creates a diamond-shaped inheritance structure, leading to ambiguity in method resolution.\n",
        "# Diamond Problem Example\n",
        "# Consider the following class hierarchy:\n"
      ],
      "metadata": {
        "id": "InwOmWXEg29P"
      }
    },
    {
      "cell_type": "code",
      "source": [
        "class A:\n",
        "    def display(self):\n",
        "        print(\"This is class A\")\n",
        "\n",
        "class B(A):\n",
        "    def display(self):\n",
        "        print(\"This is class B\")\n",
        "\n",
        "class C(A):\n",
        "    def display(self):\n",
        "        print(\"This is class C\")\n",
        "\n",
        "class D(B, C):\n",
        "    pass\n",
        "\n",
        "obj = D()\n",
        "obj.display()\n"
      ],
      "metadata": {
        "colab": {
          "base_uri": "https://localhost:8080/"
        },
        "id": "nmNYyXIQO7QU",
        "outputId": "4bc9e5d5-7f8d-4c8d-a630-f3512eb6e2ce"
      },
      "execution_count": 29,
      "outputs": [
        {
          "output_type": "stream",
          "name": "stdout",
          "text": [
            "This is class B\n"
          ]
        }
      ]
    },
    {
      "cell_type": "markdown",
      "source": [
        "# In this example, class D inherits from both B and C, which in turn inherit from A. When obj.display() is called, it’s unclear whether to use the display method from B or C."
      ],
      "metadata": {
        "id": "-zYjWplAhZEV"
      }
    },
    {
      "cell_type": "markdown",
      "source": [
        "# How Python Resolves the Diamond Problem\n",
        "# Python resolves this ambiguity using the Method Resolution Order (MRO), which follows the C3 linearization algorithm. The MRO determines the order in which classes are searched for a method. You can view the MRO of a class using the __mro__ attribute or the mro() method.\n",
        "\n",
        "# MRO Example"
      ],
      "metadata": {
        "id": "73tM3unAhd2u"
      }
    },
    {
      "cell_type": "code",
      "source": [
        "print(D.__mro__)"
      ],
      "metadata": {
        "colab": {
          "base_uri": "https://localhost:8080/"
        },
        "id": "gcGx7XF6hmcr",
        "outputId": "d589b7a5-23a3-4843-caf2-b97d7b1a0d7d"
      },
      "execution_count": 30,
      "outputs": [
        {
          "output_type": "stream",
          "name": "stdout",
          "text": [
            "(<class '__main__.D'>, <class '__main__.B'>, <class '__main__.C'>, <class '__main__.A'>, <class 'object'>)\n"
          ]
        }
      ]
    },
    {
      "cell_type": "markdown",
      "source": [
        "# When obj.display() is called, Python follows this order and finds the display method in class B first, so it uses that method."
      ],
      "metadata": {
        "id": "Ixt_2h_fh05E"
      }
    },
    {
      "cell_type": "markdown",
      "source": [
        "# Using super() to Navigate the Diamond Problem\n",
        "# You can also use the super() function to ensure proper method resolution and avoid issues associated with the diamond problem. Here’s an example:"
      ],
      "metadata": {
        "id": "KN26H9-0h5B3"
      }
    },
    {
      "cell_type": "code",
      "source": [
        "class A:\n",
        "    def display(self):\n",
        "        print(\"This is class A\")\n",
        "\n",
        "class B(A):\n",
        "    def display(self):\n",
        "        super().display()\n",
        "        print(\"This is class B\")\n",
        "\n",
        "class C(A):\n",
        "    def display(self):\n",
        "        super().display()\n",
        "        print(\"This is class C\")\n",
        "\n",
        "class D(B, C):\n",
        "    def display(self):\n",
        "        super().display()\n",
        "        print(\"This is class D\")\n",
        "\n",
        "obj = D()\n",
        "obj.display()"
      ],
      "metadata": {
        "colab": {
          "base_uri": "https://localhost:8080/"
        },
        "id": "c3gHPRZ7hq0d",
        "outputId": "c0280a47-b2c5-4570-fe12-0c38ee2ed595"
      },
      "execution_count": 31,
      "outputs": [
        {
          "output_type": "stream",
          "name": "stdout",
          "text": [
            "This is class A\n",
            "This is class C\n",
            "This is class B\n",
            "This is class D\n"
          ]
        }
      ]
    },
    {
      "cell_type": "markdown",
      "source": [
        "# In this example, super() ensures that the display method from each class in the MRO is called in the correct order:"
      ],
      "metadata": {
        "id": "QsqQ0avmiKkO"
      }
    },
    {
      "cell_type": "markdown",
      "source": [
        "# By using the MRO and super(), Python effectively resolves the diamond problem and ensures that methods are called in a consistent and predictable order"
      ],
      "metadata": {
        "id": "VfGzD3fziLCw"
      }
    },
    {
      "cell_type": "markdown",
      "source": [
        "# 14. Write a class method that keeps track of the number of instances created from a class.\n",
        "# To keep track of the number of instances created from a class, you can use a class variable that increments each time a new instance is created. Here’s how you can implement this in Python:\n",
        "# Class Definition\n"
      ],
      "metadata": {
        "id": "Y1sktCxaigd9"
      }
    },
    {
      "cell_type": "code",
      "source": [
        "class InstanceCounter:\n",
        "    instance_count = 0  # Class variable to keep track of the number of instances\n",
        "\n",
        "    def __init__(self):\n",
        "        InstanceCounter.instance_count += 1\n",
        "\n",
        "    @classmethod\n",
        "    def get_instance_count(cls):\n",
        "        return cls.instance_count\n",
        "\n",
        "# Example usage\n",
        "obj1 = InstanceCounter()\n",
        "obj2 = InstanceCounter()\n",
        "obj3 = InstanceCounter()\n",
        "\n",
        "print(InstanceCounter.get_instance_count())"
      ],
      "metadata": {
        "colab": {
          "base_uri": "https://localhost:8080/"
        },
        "id": "KvsknKFYh-pI",
        "outputId": "f654f770-ecfb-4a67-fcf2-baee291396e4"
      },
      "execution_count": 32,
      "outputs": [
        {
          "output_type": "stream",
          "name": "stdout",
          "text": [
            "3\n"
          ]
        }
      ]
    },
    {
      "cell_type": "markdown",
      "source": [
        "# Explanation\n",
        "# Class Variable instance_count: This variable is shared among all instances of the class and is used to keep track of the number of instances created.\n",
        "# __init__ Method: Each time a new instance is created, the __init__ method increments the instance_count by 1.\n",
        "# Class Method get_instance_count: This method returns the current value of instance_count. It is defined using the @classmethod decorator, which allows it to access class variables.\n",
        "# Example Usage\n",
        "# In the example usage:\n",
        "\n",
        "# Three instances of InstanceCounter are created (obj1, obj2, and obj3).\n",
        "# The get_instance_count class method is called to retrieve the number of instances created, which returns 3.\n",
        "#This approach ensures that the count of instances is accurately maintained and can be accessed at any time."
      ],
      "metadata": {
        "id": "PYktlz4BjED8"
      }
    },
    {
      "cell_type": "markdown",
      "source": [
        "# 15. Implement a static method in a class that checks if a given year is a leap year.\n",
        "#  implement a static method in a class to check if a given year is a leap year:\n",
        "# Class Definition"
      ],
      "metadata": {
        "id": "ypaf5p1Cjh5d"
      }
    },
    {
      "cell_type": "code",
      "source": [
        "class YearUtils:\n",
        "    @staticmethod\n",
        "    def is_leap_year(year):\n",
        "        if (year % 4 == 0 and year % 100 != 0) or (year % 400 == 0):\n",
        "            return True\n",
        "        else:\n",
        "            return False\n",
        "\n",
        "# Example usage\n",
        "print(YearUtils.is_leap_year(2020))\n",
        "print(YearUtils.is_leap_year(1900))\n",
        "print(YearUtils.is_leap_year(2000))"
      ],
      "metadata": {
        "colab": {
          "base_uri": "https://localhost:8080/"
        },
        "id": "nn3FToeHizPs",
        "outputId": "0e0fe611-1719-471f-cc4d-0cb30963d152"
      },
      "execution_count": 33,
      "outputs": [
        {
          "output_type": "stream",
          "name": "stdout",
          "text": [
            "True\n",
            "False\n",
            "True\n"
          ]
        }
      ]
    },
    {
      "cell_type": "markdown",
      "source": [
        "# Explanation\n",
        "# Static Method is_leap_year: This method is defined using the @staticmethod decorator, which means it can be called on the class itself without needing an instance of the class.\n",
        "# Leap Year Logic: The method checks if the year is divisible by 4 but not by 100, or if it is divisible by 400. If either condition is true, the year is a leap year.\n",
        "# Example Usage\n",
        "# In the example usage:\n",
        "\n",
        "# YearUtils.is_leap_year(2020) returns True because 2020 is a leap year.\n",
        "# YearUtils.is_leap_year(1900) returns False because 1900 is not a leap year (it is divisible by 100 but not by 400).\n",
        "# YearUtils.is_leap_year(2000) returns True because 2000 is a leap year (it is divisible by 400).\n",
        "# This static method provides a convenient way to check for leap years without needing to create an instance of the class."
      ],
      "metadata": {
        "id": "NbuBrTzekK0Y"
      }
    },
    {
      "cell_type": "code",
      "source": [],
      "metadata": {
        "id": "EV2PHtbdkGZQ"
      },
      "execution_count": null,
      "outputs": []
    }
  ]
}